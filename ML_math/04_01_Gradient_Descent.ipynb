{
 "cells": [
  {
   "cell_type": "markdown",
   "metadata": {},
   "source": [
    "# 04_Gradient Descent"
   ]
  },
  {
   "cell_type": "markdown",
   "metadata": {},
   "source": [
    "## Gradient Descent 실습"
   ]
  },
  {
   "cell_type": "code",
   "execution_count": 1,
   "metadata": {},
   "outputs": [
    {
     "name": "stderr",
     "output_type": "stream",
     "text": [
      "c:\\Users\\onaroll52\\Anaconda3\\lib\\site-packages\\scipy\\__init__.py:146: UserWarning: A NumPy version >=1.16.5 and <1.23.0 is required for this version of SciPy (detected version 1.23.0\n",
      "  warnings.warn(f\"A NumPy version >={np_minversion} and <{np_maxversion}\"\n"
     ]
    }
   ],
   "source": [
    "import numpy as np\n",
    "import matplotlib.pyplot as plt\n",
    "from sklearn import datasets"
   ]
  },
  {
   "cell_type": "code",
   "execution_count": 2,
   "metadata": {},
   "outputs": [],
   "source": [
    "# 데이터 만들기\n",
    "n_pts= 500 # number of point 500개\n",
    "X,y= datasets.make_circles(n_samples=n_pts, random_state=123, noise=0.2, factor=0.3)\n",
    "# X의 예를 들자면 X=[[a1,a2....a500],[b1,b2.....b500]]\n",
    "# y의 예를 들자면 0,1 2개의 클래스 중 하나의 값을 갖기때문에 y=[0,1,............]\n",
    "\n",
    "# 넘파이 array로 작업함!\n",
    "x_data= np.array(X)\n",
    "x_data= np.array(y.reshape(500,1)) # (500*1) 2차원으로 배열 변경함"
   ]
  },
  {
   "cell_type": "code",
   "execution_count": 3,
   "metadata": {},
   "outputs": [
    {
     "data": {
      "image/png": "[encoded data removed]",
      "text/plain": [
       "<Figure size 432x288 with 1 Axes>"
      ]
     },
     "metadata": {
      "needs_background": "light"
     },
     "output_type": "display_data"
    }
   ],
   "source": [
    "# 데이터 출력하기\n",
    "\n",
    "# scatter그래프 함수 정의하기\n",
    "def scatter_plot():\n",
    "    plt.scatter(X[y==0,0], #y==0에 대한 T/F boolen array를 만들고 a좌표\n",
    "                X[y==0,1], #y==0에 대한 T/F boolen array를 만들고 b좌표\n",
    "                color=\"red\") #빨간 점표시\n",
    "    \n",
    "    plt.scatter(X[y==1,0], #y==1에 대한 T/F boolen array를 만들고 a좌표\n",
    "                X[y==1,1], #y==1에 대한 T/F boolen array를 만들고 b좌표\n",
    "                color=\"blue\") #파란 점 표시\n",
    "    \n",
    "scatter_plot()"
   ]
  },
  {
   "cell_type": "markdown",
   "metadata": {},
   "source": [
    "==> 빨간 점과 파란 점 분류classification 문제에 해당됨\n",
    "\n",
    "입력 (x1,x2) ----> 함수 f(x1,x2) ----> 출력 0 or 1"
   ]
  }
 ],
 "metadata": {
  "kernelspec": {
   "display_name": "Python 3.9.12 ('base')",
   "language": "python",
   "name": "python3"
  },
  "language_info": {
   "codemirror_mode": {
    "name": "ipython",
    "version": 3
   },
   "file_extension": ".py",
   "mimetype": "text/x-python",
   "name": "python",
   "nbconvert_exporter": "python",
   "pygments_lexer": "ipython3",
   "version": "3.9.12"
  },
  "orig_nbformat": 4,
  "vscode": {
   "interpreter": {
    "hash": "2b9b6e256594cff678c452829faeb5cc24b6a41bd07931eab0f68995d49819a6"
   }
  }
 },
 "nbformat": 4,
 "nbformat_minor": 2
}
